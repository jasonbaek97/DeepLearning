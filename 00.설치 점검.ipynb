{
 "cells": [
  {
   "cell_type": "markdown",
   "id": "404e67e5",
   "metadata": {},
   "source": [
    "### 1. python(Anaconda) 설치 점검"
   ]
  },
  {
   "cell_type": "code",
   "execution_count": 1,
   "id": "49e617f7",
   "metadata": {},
   "outputs": [
    {
     "name": "stdout",
     "output_type": "stream",
     "text": [
      "hello anaconda\n"
     ]
    }
   ],
   "source": [
    "print('hello anaconda')"
   ]
  },
  {
   "cell_type": "markdown",
   "id": "ede6c9dd",
   "metadata": {},
   "source": [
    "### 2. Tensorflow 설치 점검"
   ]
  },
  {
   "cell_type": "code",
   "execution_count": 1,
   "id": "84b6cbd9",
   "metadata": {},
   "outputs": [],
   "source": [
    "import tensorflow as tf"
   ]
  },
  {
   "cell_type": "code",
   "execution_count": 2,
   "id": "2044805d",
   "metadata": {},
   "outputs": [
    {
     "data": {
      "text/plain": [
       "'2.6.0'"
      ]
     },
     "execution_count": 2,
     "metadata": {},
     "output_type": "execute_result"
    }
   ],
   "source": [
    "tf.__version__"
   ]
  },
  {
   "cell_type": "markdown",
   "id": "19dd3378",
   "metadata": {},
   "source": [
    "### 3.Pytorch 설치 점검"
   ]
  },
  {
   "cell_type": "code",
   "execution_count": 4,
   "id": "ed26702e",
   "metadata": {},
   "outputs": [],
   "source": [
    "import torch"
   ]
  },
  {
   "cell_type": "markdown",
   "id": "cd5e9451",
   "metadata": {},
   "source": [
    "### 4. Jupyter notebook 사용법\n",
    "\n",
    "#### . 셀 편집\n",
    "+ 셀 삭제 : D버튼 2번 \n",
    "+ 셀 여러개 삭제 : Shift (여러개 선택) + DD\n",
    "+ 셀 병합 : 병합할 셀 선택 후 : Shift +M \n",
    "+ 셀 나누기 : Shift + Ctrl + -\n",
    "+ 명령어 모드 : ESC\n",
    "\n",
    "#### . 셀 추가\n",
    "+ 위 추가 : Esc (커맨드모드) + A\n",
    "+ 아래 추가 : Esc (커맨드모드) + B "
   ]
  },
  {
   "cell_type": "code",
   "execution_count": null,
   "id": "a8c49748",
   "metadata": {},
   "outputs": [],
   "source": []
  }
 ],
 "metadata": {
  "kernelspec": {
   "display_name": "Python 3",
   "language": "python",
   "name": "python3"
  },
  "language_info": {
   "codemirror_mode": {
    "name": "ipython",
    "version": 3
   },
   "file_extension": ".py",
   "mimetype": "text/x-python",
   "name": "python",
   "nbconvert_exporter": "python",
   "pygments_lexer": "ipython3",
   "version": "3.8.8"
  }
 },
 "nbformat": 4,
 "nbformat_minor": 5
}
